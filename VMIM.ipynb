{
  "cells": [
    {
      "cell_type": "markdown",
      "metadata": {
        "id": "view-in-github",
        "colab_type": "text"
      },
      "source": [
        "<a href=\"https://colab.research.google.com/github/DifferentiableUniverseInitiative/VMIM-vs-MSE/blob/main/VMIM.ipynb\" target=\"_parent\"><img src=\"https://colab.research.google.com/assets/colab-badge.svg\" alt=\"Open In Colab\"/></a>"
      ]
    },
    {
      "cell_type": "markdown",
      "source": [
        "### Packages "
      ],
      "metadata": {
        "id": "tW-keNGyW8pY"
      }
    },
    {
      "cell_type": "code",
      "execution_count": 1,
      "metadata": {
        "id": "QAn69KhG1Zbt",
        "colab": {
          "base_uri": "https://localhost:8080/"
        },
        "outputId": "8c3e06a9-ee81-46a1-acf0-13ea8261291b"
      },
      "outputs": [
        {
          "output_type": "stream",
          "name": "stdout",
          "text": [
            "\u001b[K     |████████████████████████████████| 283 kB 8.0 MB/s \n",
            "\u001b[K     |████████████████████████████████| 282 kB 63.1 MB/s \n",
            "\u001b[K     |████████████████████████████████| 287 kB 68.8 MB/s \n",
            "\u001b[K     |████████████████████████████████| 136 kB 78.7 MB/s \n",
            "\u001b[K     |████████████████████████████████| 65 kB 3.4 MB/s \n",
            "\u001b[?25h  Building wheel for jax-cosmo (setup.py) ... \u001b[?25l\u001b[?25hdone\n",
            "  Building wheel for powerbox-jax (setup.py) ... \u001b[?25l\u001b[?25hdone\n",
            "\u001b[K     |████████████████████████████████| 109 kB 7.0 MB/s \n",
            "\u001b[?25h  Building wheel for SBIExperiments (setup.py) ... \u001b[?25l\u001b[?25hdone\n"
          ]
        }
      ],
      "source": [
        "!pip install --quiet jax-cosmo numpyro dm-haiku==0.0.5 optax\n",
        "!pip install --quiet git+https://github.com/EiffL/powerbox-jax.git@numpyro\n",
        "!pip install --quiet git+https://github.com/astrodeepnet/sbi_experiments.git"
      ]
    },
    {
      "cell_type": "code",
      "execution_count": 2,
      "metadata": {
        "colab": {
          "base_uri": "https://localhost:8080/"
        },
        "id": "-OrQPYk917-M",
        "outputId": "9b37538d-68c5-4e69-86f0-1c838f3319e3"
      },
      "outputs": [
        {
          "output_type": "stream",
          "name": "stdout",
          "text": [
            "Populating the interactive namespace from numpy and matplotlib\n"
          ]
        }
      ],
      "source": [
        "%pylab inline"
      ]
    },
    {
      "cell_type": "code",
      "execution_count": 3,
      "metadata": {
        "id": "1wy_JUGb13sO"
      },
      "outputs": [],
      "source": [
        "import jax\n",
        "import jax_cosmo as jc\n",
        "import jax.numpy as jnp\n",
        "\n",
        "import numpyro\n",
        "from numpyro.handlers import seed, trace, condition\n",
        "import numpyro.distributions as dist\n",
        "\n",
        "import powerbox_jax as pbj\n",
        "\n",
        "import haiku as hk\n",
        "import optax"
      ]
    },
    {
      "cell_type": "code",
      "execution_count": 4,
      "metadata": {
        "id": "W5rRiym8xMnh"
      },
      "outputs": [],
      "source": [
        "from tensorflow_probability.substrates import jax as tfp\n",
        "tfd = tfp.distributions\n",
        "tfb = tfp.bijectors\n",
        "tfpk = tfp.math.psd_kernels"
      ]
    },
    {
      "cell_type": "markdown",
      "source": [
        "### WL model"
      ],
      "metadata": {
        "id": "Pe5S51vGOxa7"
      }
    },
    {
      "cell_type": "code",
      "execution_count": 11,
      "metadata": {
        "id": "jgUwD4o12Ckt"
      },
      "outputs": [],
      "source": [
        "def model(N=64,                # number of pixels on the map\n",
        "          map_size=10,         # map size in deg.\n",
        "          gal_per_arcmin2=50,   \n",
        "          sigma_e=0.2):      \n",
        "    \n",
        "    pix_area = (map_size * 60 / N)**2 # arcmin2 \n",
        "    map_size = map_size / 180 * pi    # radians\n",
        "\n",
        "    \n",
        "    # Sampling cosmology\n",
        "    omega_c = numpyro.sample('omega_c', dist.Normal(0.3, 0.05))\n",
        "    sigma_8 = numpyro.sample('sigma_8', dist.Normal(0.8, 0.05))\n",
        "    \n",
        "    cosmo = jc.Planck15(Omega_c=omega_c, sigma8=sigma_8)\n",
        "    # Creating a given redshift distribution\n",
        "    pz = jc.redshift.smail_nz(0.5, 2., 1.0)\n",
        "    tracer = jc.probes.WeakLensing([pz])\n",
        "    \n",
        "    # Defining the function that will compute the power spectrum of the field\n",
        "    # Create an interpolation array for the cls to avoid far too many computations\n",
        "    ell_tab = jnp.logspace(0, 4.5, 128)\n",
        "    cell_tab = jc.angular_cl.angular_cl(cosmo, ell_tab, [tracer], nonlinear_fn=jc.power.linear)[0]\n",
        "    # Warning!!!!: I was too lazy to figure out the proper conversion from k to ell \n",
        "    P = lambda k: jc.scipy.interpolate.interp(k.flatten(), ell_tab, cell_tab).reshape(k.shape)\n",
        "    \n",
        "    pb = pbj.PowerBox(\n",
        "        N=N,                                   # Number of grid-points in the box\n",
        "        dim=2,                                 # 2D box\n",
        "        pk = P,                                # The power-spectrum\n",
        "        boxlength = map_size,                  # Size of the box (sets the units of k in pk)\n",
        "        vol_normalised_power=True,             # normalise power by volume\n",
        "        supplied_freqs=None\n",
        "    )\n",
        "      \n",
        "    # Sampling field\n",
        "    field = pb.delta_x()\n",
        "    \n",
        "    # Adding \"observational noise\"\n",
        "    x = numpyro.sample('x', dist.Independent(dist.Normal(field, sigma_e/jnp.sqrt(gal_per_arcmin2 * pix_area)), 2))\n",
        "    \n",
        "    return x"
      ]
    },
    {
      "cell_type": "code",
      "execution_count": 12,
      "metadata": {
        "id": "AbBVd_2Y2LJL"
      },
      "outputs": [],
      "source": [
        "sample_map = seed(model, jax.random.PRNGKey(0))"
      ]
    },
    {
      "cell_type": "code",
      "execution_count": 13,
      "metadata": {
        "colab": {
          "base_uri": "https://localhost:8080/",
          "height": 324
        },
        "id": "dE_0GcyH2enQ",
        "outputId": "599937b0-7695-45aa-f3d6-1700f0769fc1"
      },
      "outputs": [
        {
          "output_type": "stream",
          "name": "stderr",
          "text": [
            "/usr/local/lib/python3.7/dist-packages/jax/_src/numpy/lax_numpy.py:6493: UserWarning: Explicitly requested dtype <class 'jax._src.numpy.lax_numpy.int64'> requested in astype is not available, and will be truncated to dtype int32. To enable more dtypes, set the jax_enable_x64 configuration option or the JAX_ENABLE_X64 shell environment variable. See https://github.com/google/jax#current-gotchas for more.\n",
            "  lax._check_user_dtype_supported(dtype, \"astype\")\n"
          ]
        },
        {
          "output_type": "display_data",
          "data": {
            "image/png": "[encoded data removed]",
            "text/plain": [
              "<Figure size 432x288 with 2 Axes>"
            ]
          },
          "metadata": {
            "needs_background": "light"
          }
        }
      ],
      "source": [
        "m = sample_map()\n",
        "imshow(m, extent=(0,10,0,10))\n",
        "colorbar()\n",
        "show()"
      ]
    },
    {
      "cell_type": "code",
      "execution_count": 14,
      "metadata": {
        "colab": {
          "base_uri": "https://localhost:8080/"
        },
        "id": "GJWwFDLT2f0q",
        "outputId": "44ed3663-c64f-4d6a-a1b5-8c8f75a9b848"
      },
      "outputs": [
        {
          "output_type": "stream",
          "name": "stderr",
          "text": [
            "/usr/local/lib/python3.7/dist-packages/jax/_src/numpy/lax_numpy.py:6493: UserWarning: Explicitly requested dtype <class 'jax._src.numpy.lax_numpy.int64'> requested in astype is not available, and will be truncated to dtype int32. To enable more dtypes, set the jax_enable_x64 configuration option or the JAX_ENABLE_X64 shell environment variable. See https://github.com/google/jax#current-gotchas for more.\n",
            "  lax._check_user_dtype_supported(dtype, \"astype\")\n"
          ]
        }
      ],
      "source": [
        "# Create our fiducial observations\n",
        "fiducial_model = condition(model, {'omega_c': 0.27, 'sigma_8': 0.77})\n",
        "sample_map_fiducial = seed(fiducial_model, jax.random.PRNGKey(12345670))\n",
        "m_data = sample_map_fiducial()"
      ]
    },
    {
      "cell_type": "code",
      "execution_count": 15,
      "metadata": {
        "colab": {
          "base_uri": "https://localhost:8080/",
          "height": 269
        },
        "id": "PWJVNcra2pSn",
        "outputId": "18975f13-ad83-4742-9364-229f77e9391f"
      },
      "outputs": [
        {
          "output_type": "display_data",
          "data": {
            "image/png": "[encoded data removed]",
            "text/plain": [
              "<Figure size 432x288 with 2 Axes>"
            ]
          },
          "metadata": {
            "needs_background": "light"
          }
        }
      ],
      "source": [
        "imshow(m_data, extent=(0,10,0,10))\n",
        "colorbar()\n",
        "show()"
      ]
    },
    {
      "cell_type": "markdown",
      "metadata": {
        "id": "G4QctehL851A"
      },
      "source": [
        "### Training a neural network to learn a good summary stat ( compressor )"
      ]
    },
    {
      "cell_type": "markdown",
      "source": [
        "⚠️ this is the important part \n",
        "\n",
        "\n",
        "To do ML you need: \n",
        "\n",
        "\n",
        "*   data \n",
        "*   a model \n",
        "*   an optimizer \n",
        "*   a loss \n",
        "\n",
        "\n",
        "When you have defined all this you can train your model on your data by minimizing your loss using your optimizer.\n",
        "\n",
        "\n"
      ],
      "metadata": {
        "id": "q-Ywo2UlVZ3l"
      }
    },
    {
      "cell_type": "markdown",
      "source": [
        "###### data "
      ],
      "metadata": {
        "id": "7xM45DreV6ol"
      }
    },
    {
      "cell_type": "code",
      "execution_count": 16,
      "metadata": {
        "id": "IPm7pUb_7hsk"
      },
      "outputs": [],
      "source": [
        "# Now we define a model conditioned on these values\n",
        "def eval_model(key):\n",
        "\n",
        "  cond_model = seed(model, key)\n",
        "  model_trace = trace(cond_model).get_trace()\n",
        "  \n",
        "  return jnp.array([model_trace['omega_c']['value'], model_trace['sigma_8']['value'] ]) , model_trace['x']['value']"
      ]
    },
    {
      "cell_type": "code",
      "execution_count": 17,
      "metadata": {
        "id": "PPl-vMDb7hA8"
      },
      "outputs": [],
      "source": [
        "@jax.jit\n",
        "def get_batch_compressor(key, batch_size=128):\n",
        "\n",
        "  p, x = jax.vmap(eval_model)(jax.random.split(key, batch_size))\n",
        "  \n",
        "  return p, x"
      ]
    },
    {
      "cell_type": "code",
      "execution_count": 18,
      "metadata": {
        "colab": {
          "base_uri": "https://localhost:8080/"
        },
        "id": "4LKuaYW4CENs",
        "outputId": "c7c26917-ae44-4793-b842-12682664dd7c"
      },
      "outputs": [
        {
          "output_type": "stream",
          "name": "stderr",
          "text": [
            "/usr/local/lib/python3.7/dist-packages/jax/_src/numpy/lax_numpy.py:6493: UserWarning: Explicitly requested dtype <class 'jax._src.numpy.lax_numpy.int64'> requested in astype is not available, and will be truncated to dtype int32. To enable more dtypes, set the jax_enable_x64 configuration option or the JAX_ENABLE_X64 shell environment variable. See https://github.com/google/jax#current-gotchas for more.\n",
            "  lax._check_user_dtype_supported(dtype, \"astype\")\n"
          ]
        }
      ],
      "source": [
        "master_seed = hk.PRNGSequence(42)\n",
        "p, x = get_batch_compressor(next(master_seed))\n",
        "# p = omega_c and sigma_8\n",
        "# x = observation"
      ]
    },
    {
      "cell_type": "markdown",
      "source": [
        "###### model"
      ],
      "metadata": {
        "id": "QHJstfbKV9kb"
      }
    },
    {
      "cell_type": "code",
      "execution_count": 19,
      "metadata": {
        "id": "q5VvVYcW3uu0"
      },
      "outputs": [],
      "source": [
        "# This is a CNN that compresses the shear map into 2 statistics. \n",
        "\n",
        "class Compressor(hk.Module):\n",
        "\n",
        "  def __call__(self, x):\n",
        "    # x = shear map \n",
        "    x = x[..., jnp.newaxis]\n",
        "    net_x = hk.Conv2D(32, 3, 2)(x) # 2d convolutional layer with 32 filters, 3 by 3 kernel, stride = 2 (the step) \n",
        "    net_x = jax.nn.leaky_relu(net_x) # activation function = leaky relu\n",
        "    net_x = hk.Conv2D(64, 3, 2)(net_x) \n",
        "    net_x = jax.nn.leaky_relu(net_x) \n",
        "    net_x = hk.Conv2D(128, 3, 2)(net_x)\n",
        "    net_x = jax.nn.leaky_relu(net_x) \n",
        "    net_x = hk.AvgPool(16,8,'SAME')(net_x) # pooling layer: it averages a 16 by 16 window with stride = 8\n",
        "    net_x = hk.Flatten()(net_x) # flatten layer\n",
        "\n",
        "    # Bottleneck\n",
        "    net_x = hk.Linear(2)(net_x) # linear layer : net_x * weight + bias \n",
        "    # it return the  2 statistics\n",
        "\n",
        "    return net_x.squeeze()"
      ]
    },
    {
      "cell_type": "code",
      "execution_count": 21,
      "metadata": {
        "id": "n7BpDvGp9dr2"
      },
      "outputs": [],
      "source": [
        "# hk.transform() -> Transforms a function using Haiku modules into a pair of pure functions : init() and apply()\n",
        "# - init() : The init function, with signature params = init(rng, ...) (where '...' are the arguments to the untransformed function), \n",
        "#            allows you to collect the initial value of any parameters in the network. Haiku does this by running your function, \n",
        "#            keeping track of any parameters requested through hk.get_parameter (called by e.g. hk.Linear) and returning them to you.\n",
        "# - apply() : The apply function, with signature result = apply(params, rng, ...), allows you to inject parameter values into your function.\n",
        "\n",
        "12\n",
        "# create the compressor method\n",
        "compressor = hk.without_apply_rng(hk.transform(lambda x : Compressor()(x)))\n",
        "\n",
        "# init the params of the model\n",
        "rng_seq = hk.PRNGSequence(0)\n",
        "params_compressor = compressor.init(next(rng_seq), jnp.zeros([1,64,64]))"
      ]
    },
    {
      "cell_type": "markdown",
      "source": [
        "###### optimizer"
      ],
      "metadata": {
        "id": "sEQ9ioX1WhRq"
      }
    },
    {
      "cell_type": "code",
      "execution_count": 22,
      "metadata": {
        "id": "GKR0Hu1p9otz"
      },
      "outputs": [],
      "source": [
        "learning_rate=0.001 # this is the step size (you usually decrease it during training)\n",
        "\n",
        "optimizer = optax.adam(learning_rate)\n",
        "\n",
        "# we initialize the optimizer with the parameters of the compressor\n",
        "# to obtain `opt_state` that contains statistics for the optimizer\n",
        "opt_state = optimizer.init(params_compressor)"
      ]
    },
    {
      "cell_type": "markdown",
      "source": [
        "###### loss"
      ],
      "metadata": {
        "id": "gci7lvVGWjRb"
      }
    },
    {
      "cell_type": "code",
      "execution_count": 23,
      "metadata": {
        "id": "5yWvnJW19fEJ"
      },
      "outputs": [],
      "source": [
        "def loss_fn(params, batch):\n",
        "\n",
        "  # here we feed the compressor with the shear map 'x' and get the 2 stats 'out'  \n",
        "  # to do this we use the apply() function, give the params of the cnn and our input x\n",
        "  out = jax.vmap(lambda p, x: compressor.apply(params, x.reshape([-1,64,64])))(*batch)\n",
        "\n",
        "  # to get 'good' statistics from the shear map, we train the cnn\n",
        "  # to predict statistics close to omega_c and sigma_8\n",
        "  # -> mean(norm((x1-x2)-(omega_c, sigma_8))**2)  with (x1,x2)=out\n",
        "  loss = jnp.mean(jnp.sum((out - batch[0])**2, axis=1))\n",
        "\n",
        "  return loss"
      ]
    },
    {
      "cell_type": "markdown",
      "source": [
        "###### training \n"
      ],
      "metadata": {
        "id": "lS2YsfEUWmwP"
      }
    },
    {
      "cell_type": "markdown",
      "source": [
        "\n",
        "one update step:\n",
        "\n",
        "\n",
        "\n",
        "*  (1) we feed the compressor with our data \n",
        "*  (2) we evaluate the loss for these data and get the gradients\n",
        "*  (3) thanks to these gradients we update the CNN params\n"
      ],
      "metadata": {
        "id": "YYVO1MARo0K1"
      }
    },
    {
      "cell_type": "code",
      "source": [
        "@jax.jit\n",
        "def update(params, opt_state, batch):\n",
        "    \"\"\"Single SGD update step.\"\"\"\n",
        "    loss, grads = jax.value_and_grad(loss_fn)(params, batch) # (1) and (2)\n",
        "    updates, new_opt_state = optimizer.update(grads, opt_state) # (3)\n",
        "    new_params = optax.apply_updates(params, updates) # (3)\n",
        "    # new_params = new params of the compressor after the update\n",
        "\n",
        "    return loss, new_params, new_opt_state"
      ],
      "metadata": {
        "id": "cS0JGZ2hWnQJ"
      },
      "execution_count": 24,
      "outputs": []
    },
    {
      "cell_type": "code",
      "execution_count": 25,
      "metadata": {
        "id": "nSv26eKjhABm"
      },
      "outputs": [],
      "source": [
        "from tqdm import tqdm\n",
        "losses = []\n",
        "master_seed = hk.PRNGSequence(0)"
      ]
    },
    {
      "cell_type": "markdown",
      "source": [
        "We can now train the compressor.\n",
        "\n",
        "We start with a 'big' learning rate = 0.001 to converge quickly and not get stuck in local minimums. We update the compressor parameters 1000 times."
      ],
      "metadata": {
        "id": "_K2FTK6alMO-"
      }
    },
    {
      "cell_type": "code",
      "execution_count": 26,
      "metadata": {
        "colab": {
          "base_uri": "https://localhost:8080/"
        },
        "id": "d1_fWDYP9rIT",
        "outputId": "b2fb343b-dde5-4809-e40b-ee9fab9073a9"
      },
      "outputs": [
        {
          "output_type": "stream",
          "name": "stderr",
          "text": [
            "100%|██████████| 1000/1000 [00:46<00:00, 21.68it/s]\n"
          ]
        }
      ],
      "source": [
        "it = 1000\n",
        "\n",
        "for step in tqdm(range(it)):\n",
        "  p, x = get_batch_compressor(next(master_seed))\n",
        "  l, params_compressor, opt_state = update(params_compressor, opt_state, (p, x))\n",
        "  losses.append(l)"
      ]
    },
    {
      "cell_type": "markdown",
      "source": [
        "We decrease the learning rate (so we have to reset the optimizer but we use the last updated parameters of the cnn) and we update 10000 times the cnn parameters."
      ],
      "metadata": {
        "id": "XsA8KtjWm560"
      }
    },
    {
      "cell_type": "code",
      "execution_count": 27,
      "metadata": {
        "id": "T4SYdrfqcfbh"
      },
      "outputs": [],
      "source": [
        "learning_rate=0.0001\n",
        "optimizer = optax.adam(learning_rate)\n",
        "opt_state = optimizer.init(params_compressor)"
      ]
    },
    {
      "cell_type": "code",
      "execution_count": 28,
      "metadata": {
        "colab": {
          "base_uri": "https://localhost:8080/"
        },
        "id": "i-n02UCxchXp",
        "outputId": "9a3460bc-6fe7-4112-edf2-bad7b2434643"
      },
      "outputs": [
        {
          "output_type": "stream",
          "name": "stderr",
          "text": [
            "100%|██████████| 10000/10000 [07:27<00:00, 22.34it/s]\n"
          ]
        }
      ],
      "source": [
        "it = 10000\n",
        "\n",
        "for step in tqdm(range(it)):\n",
        "  p, x = get_batch_compressor(next(master_seed))\n",
        "  l, params_compressor, opt_state = update(params_compressor, opt_state, (p, x))\n",
        "  losses.append(l)"
      ]
    },
    {
      "cell_type": "code",
      "execution_count": 29,
      "metadata": {
        "colab": {
          "base_uri": "https://localhost:8080/",
          "height": 296
        },
        "id": "wG40cUn1UIsj",
        "outputId": "7499e42f-2c09-4a24-b108-98c94ed9e3ef"
      },
      "outputs": [
        {
          "output_type": "execute_result",
          "data": {
            "text/plain": [
              "Text(0, 0.5, 'loss')"
            ]
          },
          "metadata": {},
          "execution_count": 29
        },
        {
          "output_type": "display_data",
          "data": {
            "image/png": "[encoded data removed]",
            "text/plain": [
              "<Figure size 432x288 with 1 Axes>"
            ]
          },
          "metadata": {
            "needs_background": "light"
          }
        }
      ],
      "source": [
        "# this is the loss for each step\n",
        "plt.plot(jnp.array(losses))\n",
        "plt.xlabel('iterations')\n",
        "plt.ylabel('loss')"
      ]
    },
    {
      "cell_type": "code",
      "execution_count": 30,
      "metadata": {
        "id": "qC9pLa2SUJ4w"
      },
      "outputs": [],
      "source": [
        "p, x = get_batch_compressor(next(master_seed))\n",
        "reg = compressor.apply(params_compressor, x)"
      ]
    },
    {
      "cell_type": "code",
      "execution_count": 31,
      "metadata": {
        "colab": {
          "base_uri": "https://localhost:8080/",
          "height": 300
        },
        "id": "uafE7nJ-UKt1",
        "outputId": "7a9b8835-2a34-4a6e-b900-e60c4ddd9d13"
      },
      "outputs": [
        {
          "output_type": "execute_result",
          "data": {
            "text/plain": [
              "Text(0, 0.5, 'first statistic')"
            ]
          },
          "metadata": {},
          "execution_count": 31
        },
        {
          "output_type": "display_data",
          "data": {
            "image/png": "[encoded data removed]",
            "text/plain": [
              "<Figure size 432x288 with 1 Axes>"
            ]
          },
          "metadata": {
            "needs_background": "light"
          }
        }
      ],
      "source": [
        "plt.scatter(p[:,0], reg[:,0])\n",
        "plt.xlabel('$\\Omega_c$')\n",
        "plt.ylabel('first statistic')"
      ]
    },
    {
      "cell_type": "code",
      "execution_count": 32,
      "metadata": {
        "colab": {
          "base_uri": "https://localhost:8080/",
          "height": 298
        },
        "id": "ojTAfQqUUKp7",
        "outputId": "437bde3f-0a2b-4b6f-bafb-da1e3c2c0d14"
      },
      "outputs": [
        {
          "output_type": "execute_result",
          "data": {
            "text/plain": [
              "Text(0, 0.5, 'second statistic')"
            ]
          },
          "metadata": {},
          "execution_count": 32
        },
        {
          "output_type": "display_data",
          "data": {
            "image/png": "[encoded data removed]",
            "text/plain": [
              "<Figure size 432x288 with 1 Axes>"
            ]
          },
          "metadata": {
            "needs_background": "light"
          }
        }
      ],
      "source": [
        "scatter(p[:,1], reg[:,1])\n",
        "plt.xlabel('$\\sigma_8$')\n",
        "plt.ylabel('second statistic')"
      ]
    },
    {
      "cell_type": "markdown",
      "metadata": {
        "id": "UaKlIHAyWTtH"
      },
      "source": [
        "### Now that we have a compressor, let's try to learn the posterior"
      ]
    },
    {
      "cell_type": "code",
      "execution_count": 33,
      "metadata": {
        "id": "YT8MpJyeWTiZ"
      },
      "outputs": [],
      "source": [
        "#Now we define a model conditioned on these values\n",
        "def eval_model(params, key):\n",
        "  oc = params[0]\n",
        "  s8 = params[1]\n",
        "\n",
        "  cond_model = condition(seed(model, key), {'omega_c': oc, 'sigma_8': s8})\n",
        "  model_trace = trace(cond_model).get_trace()\n",
        "  return model_trace['x']['value']\n",
        "\n",
        "@jax.jit\n",
        "def get_batch(key, batch_size=1000):\n",
        "\n",
        "  # Randomly draw from the prior\n",
        "  key1, key2, key3 = jax.random.split(key, 3)\n",
        "  oc = tfd.Normal(0.3, 0.05).sample(batch_size, seed=key1)\n",
        "  s8 = tfd.Normal(0.8, 0.05).sample(batch_size, seed=key2)\n",
        "  params_ref = jnp.stack([oc,s8], axis=1)\n",
        "\n",
        "  x = jax.vmap(eval_model)(params_ref,jax.random.split(key3, batch_size))\n",
        "  \n",
        "  return params_ref, x"
      ]
    },
    {
      "cell_type": "code",
      "execution_count": 34,
      "metadata": {
        "id": "Cdfr-tquf_tw"
      },
      "outputs": [],
      "source": [
        "from sbiexpt.bijectors import MixtureAffineSigmoidBijector "
      ]
    },
    {
      "cell_type": "code",
      "execution_count": 35,
      "metadata": {
        "id": "d4-FjXnhf_p8"
      },
      "outputs": [],
      "source": [
        "d = 2\n",
        "\n",
        "class CustomCoupling(hk.Module):\n",
        "  \"\"\"This is the coupling layer used in the Flow.\"\"\"\n",
        "  def __init__(self, y, *args, **kwargs):\n",
        "    self.y = y\n",
        "    super(CustomCoupling, self).__init__(*args, **kwargs)\n",
        "\n",
        "  def __call__(self, x, output_units, **condition_kwargs):\n",
        "\n",
        "    net = jnp.concatenate([x, self.y], axis=-1)\n",
        "    # NN to get a b and c\n",
        "    net = hk.Linear(128, name='l1')(net)\n",
        "    net = jax.nn.silu(net) # silu = x*sigmoid(x)\n",
        "    net = hk.Linear(128, name='l2')(net)\n",
        "    net = jax.nn.silu(net)\n",
        "    \n",
        "    log_a_bound=4\n",
        "    min_density_lower_bound=1e-4\n",
        "    n_components = 16\n",
        "    \n",
        "    log_a = jax.nn.tanh(hk.Linear(output_units*n_components, name='l3')(net)) * log_a_bound\n",
        "    b   = hk.Linear(output_units*n_components, name='l4')(net)\n",
        "    c   = min_density_lower_bound + jax.nn.sigmoid(hk.Linear(output_units*n_components, name='l5')(net)) * (1 - min_density_lower_bound)\n",
        "    p   = jax.nn.softmax(hk.Linear(n_components, name='l6')(net))\n",
        "    return MixtureAffineSigmoidBijector(jnp.exp(log_a),b,c, p)\n",
        "\n",
        "class Flow(hk.Module):\n",
        "    \"\"\"A normalizing flow using the coupling layers defined\n",
        "    above.\"\"\"\n",
        "    def __call__(self, y):\n",
        "      chain = tfb.Chain([\n",
        "            tfb.RealNVP(d//2, bijector_fn=CustomCoupling(y, name = 'b1')),\n",
        "            tfb.Permute([1,0]),\n",
        "            tfb.RealNVP(d//2, bijector_fn=CustomCoupling(y, name = 'b2')),\n",
        "            tfb.Permute([1,0]),\n",
        "        ])\n",
        "      \n",
        "      nvp = tfd.TransformedDistribution(\n",
        "            tfd.MultivariateNormalDiag(jnp.array([0.3,0.8]), scale_identity_multiplier=0.05),\n",
        "            bijector=chain)\n",
        "      return nvp"
      ]
    },
    {
      "cell_type": "code",
      "source": [
        "nvp = hk.without_apply_rng(hk.transform(lambda p,y : Flow()(y).log_prob(p).squeeze()))"
      ],
      "metadata": {
        "id": "sHuHFOfWeduY"
      },
      "execution_count": 36,
      "outputs": []
    },
    {
      "cell_type": "code",
      "execution_count": 37,
      "metadata": {
        "id": "_UpGslEvh7ai"
      },
      "outputs": [],
      "source": [
        "def loss_fn(params, batch):\n",
        "  y = compressor.apply(params_compressor, batch[1])\n",
        "  log_prob = jax.vmap(lambda p, x: nvp.apply(params, p.reshape([-1,2]), x.reshape([-1,2])))(batch[0], y) # Here we extract the grad of the model\n",
        "  return -jnp.mean(log_prob)\n",
        "\n",
        "@jax.jit\n",
        "def update(params, opt_state, batch):\n",
        "    \"\"\"Single SGD update step.\"\"\"\n",
        "    loss, grads = jax.value_and_grad(loss_fn)(params, batch)\n",
        "    updates, new_opt_state = optimizer.update(grads, opt_state)\n",
        "    new_params = optax.apply_updates(params, updates)\n",
        "  \n",
        "    return loss, new_params, new_opt_state"
      ]
    },
    {
      "cell_type": "code",
      "execution_count": 38,
      "metadata": {
        "id": "rDnkq0dcig2c",
        "colab": {
          "base_uri": "https://localhost:8080/",
          "height": 372
        },
        "outputId": "dac52d56-58cf-4a6d-b3d8-01f101828b12"
      },
      "outputs": [
        {
          "output_type": "stream",
          "name": "stderr",
          "text": [
            "/usr/local/lib/python3.7/dist-packages/jax/_src/numpy/lax_numpy.py:6493: UserWarning: Explicitly requested dtype <class 'jax._src.numpy.lax_numpy.int64'> requested in astype is not available, and will be truncated to dtype int32. To enable more dtypes, set the jax_enable_x64 configuration option or the JAX_ENABLE_X64 shell environment variable. See https://github.com/google/jax#current-gotchas for more.\n",
            "  lax._check_user_dtype_supported(dtype, \"astype\")\n",
            "100%|██████████| 1000/1000 [00:30<00:00, 33.19it/s]\n",
            "100%|██████████| 10000/10000 [01:52<00:00, 88.90it/s]\n"
          ]
        },
        {
          "output_type": "execute_result",
          "data": {
            "text/plain": [
              "[<matplotlib.lines.Line2D at 0x7fd8497668d0>]"
            ]
          },
          "metadata": {},
          "execution_count": 38
        },
        {
          "output_type": "display_data",
          "data": {
            "image/png": "[encoded data removed]",
            "text/plain": [
              "<Figure size 432x288 with 1 Axes>"
            ]
          },
          "metadata": {
            "needs_background": "light"
          }
        }
      ],
      "source": [
        "nb_simu = 1000\n",
        "size_mini_batch = 100\n",
        "\n",
        "\n",
        "# init model \n",
        "rng_seq = hk.PRNGSequence(12)\n",
        "params = nvp.init(next(rng_seq), jnp.zeros([1, 2]), jnp.zeros([1,2]))\n",
        "\n",
        "losses = []\n",
        "master_seed = hk.PRNGSequence(0)\n",
        "\n",
        "\n",
        "# training \n",
        "learning_rate=0.001\n",
        "optimizer = optax.adam(learning_rate)\n",
        "opt_state = optimizer.init(params)\n",
        "\n",
        "p, x = get_batch(jax.random.PRNGKey(0))\n",
        "\n",
        "it = 1000\n",
        "for step in tqdm(range(it)):\n",
        "  inds = np.random.randint(0, nb_simu, size_mini_batch)\n",
        "  # p, x, score = get_batch(next(master_seed))\n",
        "  l, params, opt_state = update(params, opt_state, (p[inds], x[inds]))\n",
        "  losses.append(l)\n",
        "\n",
        "learning_rate=0.0001\n",
        "optimizer = optax.adam(learning_rate)\n",
        "opt_state = optimizer.init(params)\n",
        "\n",
        "it = 10000\n",
        "for step in tqdm(range(it)):\n",
        "  inds = np.random.randint(0, nb_simu, size_mini_batch)\n",
        "  l, params, opt_state = update(params, opt_state, (p[inds], x[inds]))\n",
        "  losses.append(l)\n",
        "\n",
        "plot(array(losses)[:])"
      ]
    },
    {
      "cell_type": "code",
      "execution_count": 39,
      "metadata": {
        "id": "yfVn1QRYigt7"
      },
      "outputs": [],
      "source": [
        "p = jnp.stack(jnp.meshgrid(jnp.linspace(0.2,0.4,64),\n",
        "                 jnp.linspace(0.7,0.9,64)), axis=-1)\n",
        "ps = p.reshape([-1, 2])\n",
        "\n",
        "y = compressor.apply(params_compressor,  m_data.reshape((1,64,64)).repeat(len(ps),axis=0))\n",
        "pred_fn = nvp.apply(params, ps, y).reshape([64, 64])"
      ]
    },
    {
      "cell_type": "code",
      "execution_count": 40,
      "metadata": {
        "colab": {
          "base_uri": "https://localhost:8080/",
          "height": 300
        },
        "id": "A3i-M8iU8lMV",
        "outputId": "b954790b-f482-484e-970f-353718ed2cac"
      },
      "outputs": [
        {
          "output_type": "execute_result",
          "data": {
            "text/plain": [
              "Text(0, 0.5, '$\\\\sigma_8$')"
            ]
          },
          "metadata": {},
          "execution_count": 40
        },
        {
          "output_type": "display_data",
          "data": {
            "image/png": "[encoded data removed]",
            "text/plain": [
              "<Figure size 432x288 with 1 Axes>"
            ]
          },
          "metadata": {
            "needs_background": "light"
          }
        }
      ],
      "source": [
        "contourf(p[...,0], p[...,1], jnp.exp(pred_fn - pred_fn.max()), 256); \n",
        "contour(p[...,0], p[...,1], tfd.MultivariateNormalDiag([0.3,0.8], scale_identity_multiplier=0.05).prob(ps).reshape([64, 64]))\n",
        "axvline(0.27)\n",
        "axhline(0.77)\n",
        "gca().set_aspect('equal')\n",
        "xlabel('$\\Omega_c$')\n",
        "ylabel('$\\sigma_8$')"
      ]
    }
  ],
  "metadata": {
    "accelerator": "GPU",
    "colab": {
      "collapsed_sections": [
        "sEQ9ioX1WhRq",
        "gci7lvVGWjRb"
      ],
      "name": "VMIM.ipynb",
      "provenance": [],
      "toc_visible": true,
      "include_colab_link": true
    },
    "kernelspec": {
      "display_name": "Python 3",
      "name": "python3"
    },
    "language_info": {
      "name": "python"
    }
  },
  "nbformat": 4,
  "nbformat_minor": 0
}